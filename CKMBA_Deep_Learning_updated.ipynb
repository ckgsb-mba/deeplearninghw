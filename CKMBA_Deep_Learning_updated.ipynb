{
 "cells": [
  {
   "cell_type": "markdown",
   "metadata": {
    "colab_type": "text",
    "id": "7CAmTcneO5qI"
   },
   "source": [
    "# 深度学习作业 Deep Learning\n",
    "\n",
    "欢迎大家! 该作业将帮助我们熟悉机器（深度）学习和神经网络的实践步骤。不用担心没有任何编程经验。请尝试按照说明进行一步步的操作。\n",
    "\n",
    "如何使用本代码:\n",
    "* 运行一段代码：单击需要运行的代码，然后点击上方的'Run'. 运行完毕会出现“完成”字样. 第一段代码需要时间可能会稍微长一点\n",
    "* 注意保持代码运行的我顺序. 如果顺序错乱，代码运行时会出错. 如果需要从头开始, 点击上方 “Kernel” -> “Restart & Clear Output“.\n",
    "* 如果你中途离开，或窗口长时间闲置, 服务器会忘记你刚才运行过的内容，你需要从头开始运行一遍. 如果不清楚自己运行到哪一步了，最好按照上面方法重新开始.\n",
    "* 如何加一段新的代码：点击上方 \"+\" 按钮.\n",
    "* 大部分代码 (最重要的部分) 都很简单. 每一段代码有详细的解释. 比较复杂的部分都是用来画图的，不需要理解.\n",
    "\n",
    "## 初始\n",
    "\n",
    "让我们开始吧. 首先我们要带入一些函数库. 最重要的是 tensorflow 和 keras. 这两个是神经网络的主要工具. \n",
    "\n",
    "现在我们运行下一段代码. 如果你看到tensorflow的版本号 (2.1.0), 就说明一切正常."
   ]
  },
  {
   "cell_type": "code",
   "execution_count": 17,
   "metadata": {
    "colab": {},
    "colab_type": "code",
    "id": "bHHzffVHO5qK"
   },
   "outputs": [
    {
     "name": "stdout",
     "output_type": "stream",
     "text": [
      "2.1.0\n",
      "完成\n"
     ]
    }
   ],
   "source": [
    "import tensorflow as tf\n",
    "from tensorflow import keras \n",
    "import numpy as np\n",
    "import matplotlib.pyplot as plt\n",
    "from matplotlib.font_manager import FontProperties\n",
    "%matplotlib inline\n",
    "from sklearn.model_selection import train_test_split\n",
    "from sklearn.metrics import classification_report, confusion_matrix, f1_score\n",
    "import itertools\n",
    "#This is just an example comment\n",
    "print(tf.__version__)\n",
    "print(\"完成\")"
   ]
  },
  {
   "cell_type": "markdown",
   "metadata": {
    "colab_type": "text",
    "id": "Zqw_Y6x-O5qS"
   },
   "source": [
    "## 加载和检查数据\n",
    "\n",
    "我们现在加载数据. 我们用的是一个时尚杂志上的衣服照片. 这些照片被压缩到28x28像素. 这个数据常被用在机器学习的教程里. 你可以在这里看到更多关于这个数据的信息 [here](https://www.kaggle.com/zalando-research/fashionmnist). \n",
    "\n",
    "第一行指向数据, 第二行载入数据. 数据有4部分. 数据分为train和test两部分. 每部分又包含图片和标注label. 第三行显示training image(训练图像）的形状. 结果应该是 (60000,28,28), 意思是一共又 60,000 张图片，每个图片由 28 x 28 个像素组成.\n"
   ]
  },
  {
   "cell_type": "code",
   "execution_count": 2,
   "metadata": {
    "colab": {},
    "colab_type": "code",
    "id": "nOJmNTuYO5qT"
   },
   "outputs": [
    {
     "data": {
      "text/plain": [
       "(60000, 28, 28)"
      ]
     },
     "execution_count": 2,
     "metadata": {},
     "output_type": "execute_result"
    }
   ],
   "source": [
    "fashion_mnist = keras.datasets.fashion_mnist\n",
    "(mnist_train_images, mnist_train_labels), (mnist_test_images, mnist_test_labels) = fashion_mnist.load_data()\n",
    "mnist_train_images.shape"
   ]
  },
  {
   "cell_type": "markdown",
   "metadata": {
    "colab_type": "text",
    "id": "_pTnm-sNO5qX"
   },
   "source": [
    "\n",
    "\n",
    "好的，下面就是我们的第一个任务了. 在下面创建一段新的代码，找出 **test** 数据集里有多少张图片.\n",
    "\n",
    "### <span style=\"color:red\">__第一题:__</span> test集里面有多少张图片?\n",
    "\n",
    "**提示**:\n",
    "拷贝上面一段代码. 然后把所有\"train\"改成\"test\".\n"
   ]
  },
  {
   "cell_type": "markdown",
   "metadata": {
    "colab_type": "text",
    "id": "yoWJ1WzLO5qd"
   },
   "source": [
    "---\n",
    "Take a look at the first image. Programmers always start indexing at 0 so that's why you have `mnist_train_images[0]` in the code. Each pixel is a number between 0 and 255 representing the intensity (how light or dark) of the pixel (the images are not colored, we are just showing the darkness with colors here)."
   ]
  },
  {
   "cell_type": "code",
   "execution_count": 3,
   "metadata": {
    "colab": {},
    "colab_type": "code",
    "id": "i4BEJg70O5qf",
    "scrolled": true
   },
   "outputs": [
    {
     "data": {
      "image/png": "[encoded data removed]",
      "text/plain": [
       "<Figure size 432x288 with 2 Axes>"
      ]
     },
     "metadata": {
      "needs_background": "light"
     },
     "output_type": "display_data"
    }
   ],
   "source": [
    "plt.figure()\n",
    "plt.imshow(mnist_train_images[0],cmap='Blues')\n",
    "plt.colorbar()\n",
    "plt.grid(False)"
   ]
  },
  {
   "cell_type": "markdown",
   "metadata": {
    "colab_type": "text",
    "id": "te8YeL0IO5qj"
   },
   "source": [
    "Now let's see what the label of this image is."
   ]
  },
  {
   "cell_type": "code",
   "execution_count": 4,
   "metadata": {
    "colab": {},
    "colab_type": "code",
    "id": "zzQjJNUzO5qk"
   },
   "outputs": [
    {
     "data": {
      "text/plain": [
       "9"
      ]
     },
     "execution_count": 4,
     "metadata": {},
     "output_type": "execute_result"
    }
   ],
   "source": [
    "mnist_train_labels[0]"
   ]
  },
  {
   "cell_type": "markdown",
   "metadata": {
    "colab_type": "text",
    "id": "21XQfc6cO5qq"
   },
   "source": [
    "---\n",
    "Well, it's 9. Looks like a boot, but we got a number. The reason is that the data we loaded **does not** contain the text labels, just a number for each category. Therefore, we need to manually specify the textual labels in the following code cell. (Note that when you execute the cell, it will not display any output)."
   ]
  },
  {
   "cell_type": "code",
   "execution_count": 5,
   "metadata": {
    "colab": {},
    "colab_type": "code",
    "id": "313KfcB7O5qs"
   },
   "outputs": [
    {
     "name": "stdout",
     "output_type": "stream",
     "text": [
      "完成\n"
     ]
    }
   ],
   "source": [
    "class_names = ['T恤', '裤子', '套衫', '裙子', '大衣', \n",
    "               '拖鞋', '衬衫', '球鞋', '包', '靴子']\n",
    "print(\"完成\")"
   ]
  },
  {
   "cell_type": "markdown",
   "metadata": {
    "colab_type": "text",
    "id": "mjM-SZEPO5qw"
   },
   "source": [
    "But with the class names defined, we can easily display the label for the first training image (indexed as 0)."
   ]
  },
  {
   "cell_type": "code",
   "execution_count": 6,
   "metadata": {
    "colab": {},
    "colab_type": "code",
    "id": "NcY_ptxkO5qy"
   },
   "outputs": [
    {
     "data": {
      "text/plain": [
       "'靴子'"
      ]
     },
     "execution_count": 6,
     "metadata": {},
     "output_type": "execute_result"
    }
   ],
   "source": [
    "class_names[mnist_train_labels[0]]"
   ]
  },
  {
   "cell_type": "markdown",
   "metadata": {
    "colab_type": "text",
    "id": "QCTusc_RO5q1"
   },
   "source": [
    "---\n",
    "Ok, now you try.\n",
    "### <span style=\"color:red\">__Question 2:__</span> What is the label of the second training image?\n",
    "**Hint** Copy and past the last line of code above and change \"0\" to \"1\"."
   ]
  },
  {
   "cell_type": "markdown",
   "metadata": {
    "colab_type": "text",
    "id": "S-isq8LzO5q-"
   },
   "source": [
    "## Data preprocessing\n",
    "Cleaning/preprocessing data is usually a gigantic task. This data set that we are using is already very clean and nice, so we just need to complete some very simple steps.\n",
    "\n",
    "The first one is to normalize the images so that the intensity of a pixel is measured between 0 and 1 and not 0 and 255. (This is not strictly necessary for things to work, but often helps and makes the training faster. We do so by dividing the intensity by 255."
   ]
  },
  {
   "cell_type": "code",
   "execution_count": 7,
   "metadata": {
    "colab": {},
    "colab_type": "code",
    "id": "5GmMe4MfO5q_"
   },
   "outputs": [
    {
     "name": "stdout",
     "output_type": "stream",
     "text": [
      "完成\n"
     ]
    }
   ],
   "source": [
    "mnist_train_images = mnist_train_images / 255.0\n",
    "mnist_test_images = mnist_test_images / 255.0\n",
    "print(\"完成\")"
   ]
  },
  {
   "cell_type": "markdown",
   "metadata": {
    "colab_type": "text",
    "id": "NXxSBFWQO5rE"
   },
   "source": [
    "---\n",
    "If you executed the block above, it will not give an output, but let's see if it worked. Let's plot the first image again."
   ]
  },
  {
   "cell_type": "code",
   "execution_count": 8,
   "metadata": {
    "colab": {},
    "colab_type": "code",
    "id": "cDQeuKpEO5rG"
   },
   "outputs": [
    {
     "data": {
      "image/png": "[encoded data removed]",
      "text/plain": [
       "<Figure size 432x288 with 2 Axes>"
      ]
     },
     "metadata": {
      "needs_background": "light"
     },
     "output_type": "display_data"
    }
   ],
   "source": [
    "plt.figure()\n",
    "plt.imshow(mnist_train_images[0],cmap='Blues')\n",
    "plt.colorbar()\n",
    "plt.grid(False)"
   ]
  },
  {
   "cell_type": "markdown",
   "metadata": {
    "colab_type": "text",
    "id": "v9D03px1O5rJ"
   },
   "source": [
    "All good. Maximum intensity (shown on the right side) is now 1.0. Now let's take a look a few more training images (the first 49). Don't worry about the next code, it just creates a nice grid of images. Just pay attention to the _last two lines_ where we tell it to display the labels from the `mnist_train_labels` and the images from the `mnist_train_images`. The `[i]` means that we want to display the label/image with index `i`, where `i` goes from 0 to 48."
   ]
  },
  {
   "cell_type": "code",
   "execution_count": 10,
   "metadata": {},
   "outputs": [],
   "source": [
    "zhfont = FontProperties(fname='./SimHei-windows.ttf')"
   ]
  },
  {
   "cell_type": "code",
   "execution_count": 11,
   "metadata": {
    "colab": {},
    "colab_type": "code",
    "id": "wf1TngR4O5rL"
   },
   "outputs": [
    {
     "data": {
      "image/png": "[encoded data removed]",
      "text/plain": [
       "<Figure size 720x720 with 49 Axes>"
      ]
     },
     "metadata": {},
     "output_type": "display_data"
    }
   ],
   "source": [
    "plt.figure(figsize=(10,10))\n",
    "for i in range(0,49):\n",
    "    plt.subplot(7,7,i+1)\n",
    "    plt.subplots_adjust(hspace=0.5)\n",
    "    plt.xticks([])\n",
    "    plt.yticks([])\n",
    "    plt.axis('off')\n",
    "    plt.grid(False)\n",
    "    plt.title(class_names[mnist_train_labels[i]],fontproperties=zhfont)\n",
    "    plt.imshow(mnist_train_images[i], cmap='Blues')\n",
    "   "
   ]
  },
  {
   "cell_type": "markdown",
   "metadata": {
    "colab_type": "text",
    "id": "jBaZU2-uO5rO"
   },
   "source": [
    "Let's try the same thing for the **test** images. We want to make sure that those look reasonable as well. \n",
    "\n",
    "### <span style=\"color:red\">__Question 3:__</span>Display the first 49 **test** images. \n",
    "**Hint**: Copy and modify the code from above and replace \"train\" with \"test\" in the last two lines (also change 'Blues' to 'Oranges' to make it even nicer)*\n",
    "\n",
    "### <span style=\"color:red\">__Question 4:__</span> What is the label of the first test image?"
   ]
  },
  {
   "cell_type": "markdown",
   "metadata": {
    "colab_type": "text",
    "id": "VaLzF6mxO5rV"
   },
   "source": [
    "One last step before we get to neural networks. Remember, how we want to have more than just training and test data. We want to experiment with different models, so we want to split the training data further and save some of it for validation. That is what the following line of code does. The first line splits the training data into two parts. 80% of it we will actually use for training and 20% for validation. The second line just displays the size of the validation set:"
   ]
  },
  {
   "cell_type": "code",
   "execution_count": 12,
   "metadata": {
    "colab": {},
    "colab_type": "code",
    "id": "QO2jUzQnO5rW"
   },
   "outputs": [
    {
     "data": {
      "text/plain": [
       "(12000, 28, 28)"
      ]
     },
     "execution_count": 12,
     "metadata": {},
     "output_type": "execute_result"
    }
   ],
   "source": [
    "our_train_images, our_val_images, our_train_labels, our_val_labels = train_test_split(mnist_train_images, mnist_train_labels, test_size=12000)\n",
    "our_val_images.shape"
   ]
  },
  {
   "cell_type": "markdown",
   "metadata": {
    "colab_type": "text",
    "id": "B9lBTR_lO5rc"
   },
   "source": [
    "---\n",
    "A simple question: what is the size of the set that we will actually use for training? You can use code or just calculate it manually.\n",
    "\n",
    "### <span style=\"color:red\">__Question 5:__</span> How many images are in our new training data set, that we will actually use for training? \n",
    "**Hint**: The last line of code gives the size of our new *validation* data set. Copy and change \"val\" to \"train\"."
   ]
  },
  {
   "cell_type": "markdown",
   "metadata": {
    "colab_type": "text",
    "id": "OUZ-azGPO5rd"
   },
   "source": [
    "## Neural Network Setup\n",
    "Finally! We are ready to set up a neural network. \n",
    "\n",
    "* The first line below creates an empty network and you add layers one by one. Our first network is super simple. It has two layers: an input layer and an output layer, no hidden layers! \n",
    "* The input layer defined in the second line is simply a 28x28=784 dimensional vector, where each dimension corresponds to a pixel in the input image. \n",
    "* The output layer given in the third line is just 10 nodes, where each node corresponds to one of the categories. The activation levels of these output nodes will give us the prediction. The highest activation is the predicted category. (The 'softmax' activation makes sure that the activations in this layer add up to 1 so the activations are very easy to interpret as a probability of being in the class). This layer is 'dense' because all nodes in the output layer are connected to all nodes in the input layer. \n",
    "* The fourth line is where we specify the loss function, what \"optimizer\" to use and what metrics to display. Don't worry if you don't understand this part.\n",
    "* The last line prints a summary of the model. This is the output when you run the code."
   ]
  },
  {
   "cell_type": "code",
   "execution_count": 13,
   "metadata": {
    "colab": {},
    "colab_type": "code",
    "id": "n068K6xlO5re"
   },
   "outputs": [
    {
     "name": "stdout",
     "output_type": "stream",
     "text": [
      "Model: \"sequential\"\n",
      "_________________________________________________________________\n",
      "Layer (type)                 Output Shape              Param #   \n",
      "=================================================================\n",
      "flatten (Flatten)            (None, 784)               0         \n",
      "_________________________________________________________________\n",
      "dense (Dense)                (None, 10)                7850      \n",
      "=================================================================\n",
      "Total params: 7,850\n",
      "Trainable params: 7,850\n",
      "Non-trainable params: 0\n",
      "_________________________________________________________________\n"
     ]
    }
   ],
   "source": [
    "model1 = keras.Sequential()\n",
    "model1.add (keras.layers.Flatten(input_shape=(28, 28)))\n",
    "model1.add (keras.layers.Dense(10,activation='softmax'))\n",
    "model1.compile(loss='sparse_categorical_crossentropy',\n",
    "              optimizer='adam',\n",
    "              metrics=['accuracy'])\n",
    "model1.summary()"
   ]
  },
  {
   "cell_type": "markdown",
   "metadata": {
    "colab_type": "text",
    "id": "_ELY__xxO5rh"
   },
   "source": [
    "## Neural Network Training\n",
    "\n",
    "Now it's time for training the model. This is the most time consuming part. For this simple network it will be fast, but for more complex ones it can take a while. All you have to specify is the training data and how long it should run. One \"epoch\" means that the model goes through all the training data once. But you might need to train longer. 5 epochs is going to be more than enough for this simple one. *(Note that in the accuracy will start out around 10%. And it will improve as you train longer. Also note that if you rerun the block again it will continue from where it was. So if you have epoch=5 set and run it twice, that's equivalent to epoch=10. But for readability of this notebook try to run only once in the final version that you submit*)"
   ]
  },
  {
   "cell_type": "code",
   "execution_count": 14,
   "metadata": {
    "colab": {},
    "colab_type": "code",
    "id": "k2_vJ73jO5ri"
   },
   "outputs": [
    {
     "name": "stdout",
     "output_type": "stream",
     "text": [
      "Train on 48000 samples\n",
      "Epoch 1/5\n",
      "48000/48000 [==============================] - 4s 91us/sample - loss: 0.6315 - accuracy: 0.7875\n",
      "Epoch 2/5\n",
      "48000/48000 [==============================] - 3s 57us/sample - loss: 0.4717 - accuracy: 0.8383\n",
      "Epoch 3/5\n",
      "48000/48000 [==============================] - 3s 57us/sample - loss: 0.4428 - accuracy: 0.8474\n",
      "Epoch 4/5\n",
      "48000/48000 [==============================] - 3s 65us/sample - loss: 0.4253 - accuracy: 0.8532\n",
      "Epoch 5/5\n",
      "48000/48000 [==============================] - 3s 63us/sample - loss: 0.4143 - accuracy: 0.8570\n"
     ]
    },
    {
     "data": {
      "text/plain": [
       "<tensorflow.python.keras.callbacks.History at 0x7f1000a8a2b0>"
      ]
     },
     "execution_count": 14,
     "metadata": {},
     "output_type": "execute_result"
    }
   ],
   "source": [
    "model1.fit(our_train_images, our_train_labels, epochs=5)"
   ]
  },
  {
   "cell_type": "markdown",
   "metadata": {
    "colab_type": "text",
    "id": "Ls8u9WXSO5rq"
   },
   "source": [
    "## Evaluate Results\n",
    "Now you already see accuracy levels in the output above. Accuracy is simply the percentage of images that are correctly predicted by the model. But those are the accuracy levels in the **training** data. You need to check the performance in the **validation** data. So below, we *evaluate* the model on the validation data (first line) and display the accuracy (second line). (Note: the `model1.evaluate` function also gives the value of loss, but we will ignore that here) "
   ]
  },
  {
   "cell_type": "code",
   "execution_count": null,
   "metadata": {
    "colab": {},
    "colab_type": "code",
    "id": "WENdEL--O5rs"
   },
   "outputs": [],
   "source": [
    "val_loss1, val_acc1 = model1.evaluate(our_val_images, our_val_labels)\n",
    "print('Validation accuracy:', val_acc1)"
   ]
  },
  {
   "cell_type": "markdown",
   "metadata": {
    "colab_type": "text",
    "id": "iaPKeb8OO5rx"
   },
   "source": [
    "## Try Other Networks (Models)\n",
    "Over 80% accuracy is pretty fascinating for such a simple network! That means the algorithm can already correctly recognize over 80% of the images. But let's try to do better. Let's add a hidden layer. We'll build a new model from scracth. Let's call this `model2`. The only difference is the addition of a hidden layer in the middle with 128 nodes."
   ]
  },
  {
   "cell_type": "code",
   "execution_count": null,
   "metadata": {
    "colab": {},
    "colab_type": "code",
    "id": "3iYlzuB-O5ry"
   },
   "outputs": [],
   "source": [
    "model2 = keras.Sequential()\n",
    "model2.add (keras.layers.Flatten(input_shape=(28, 28)))\n",
    "model2.add (keras.layers.Dense(128,activation='sigmoid'))\n",
    "model2.add (keras.layers.Dense(10,activation='softmax'))\n",
    "model2.compile(loss='sparse_categorical_crossentropy',\n",
    "              optimizer='adam',\n",
    "              metrics=['accuracy'])\n",
    "model2.summary()"
   ]
  },
  {
   "cell_type": "markdown",
   "metadata": {
    "colab_type": "text",
    "id": "Y0s472rrO5r2"
   },
   "source": [
    "---\n",
    "Let's run this one for 30 epochs."
   ]
  },
  {
   "cell_type": "code",
   "execution_count": null,
   "metadata": {
    "cellView": "code",
    "colab": {},
    "colab_type": "code",
    "id": "OmTCv63xO5r2"
   },
   "outputs": [],
   "source": [
    "model2.fit(our_train_images, our_train_labels, epochs=30)"
   ]
  },
  {
   "cell_type": "markdown",
   "metadata": {
    "colab_type": "text",
    "id": "g0ASrhJbO5r6"
   },
   "source": [
    "Time for some questions. \n",
    "### <span style=\"color:red\">__Question 6:__</span> What is the accuracy of model2 on the training set?\n",
    "**Hint**: This is shown in the output above.\n",
    "### <span style=\"color:red\">__Question 7:__</span> What is the accuracy of model2 on the validation set?\n",
    "**Hint** Create a new code cell block below by copying and modifying the cell that gave us the validation accuracy for model 1. Make sure you change to the correct model numbers! (Change all \"1\" to \"2\" in both lines of code)"
   ]
  },
  {
   "cell_type": "markdown",
   "metadata": {
    "colab_type": "text",
    "id": "3LTFs6IUO5sA"
   },
   "source": [
    "### <span style=\"color:red\">__Question 8:__</span> What is the reason for the difference between the model 2's training accuracy and validation accuracy? Is this difference a problem? Briefly comment in free text, but please keep it short, not more than a 100 words."
   ]
  },
  {
   "cell_type": "markdown",
   "metadata": {
    "colab_type": "text",
    "id": "Fhe_EI8tO5sB"
   },
   "source": [
    "---\n",
    "The accuracy levels are not bad, let's see if we can improve by making the network deep. For model 3, we'll have three hidden layers and add some dropouts as well. (Dropouts is a technique to reduce overfitting)\n"
   ]
  },
  {
   "cell_type": "code",
   "execution_count": null,
   "metadata": {
    "colab": {},
    "colab_type": "code",
    "id": "PjFM0fvqO5sC"
   },
   "outputs": [],
   "source": [
    "model3 = keras.Sequential()\n",
    "model3.add (keras.layers.Flatten(input_shape=(28, 28)))\n",
    "model3.add (keras.layers.Dense(64,activation='sigmoid'))\n",
    "model3.add(keras.layers.Dropout(rate=0.1))\n",
    "model3.add (keras.layers.Dense(64,activation='sigmoid'))\n",
    "model3.add(keras.layers.Dropout(rate=0.1))\n",
    "model3.add (keras.layers.Dense(64,activation='sigmoid'))\n",
    "model3.add(keras.layers.Dropout(0.1))\n",
    "model3.add (keras.layers.Dense(10,activation='softmax'))\n",
    "model3.compile(loss='sparse_categorical_crossentropy',\n",
    "              optimizer='adam',\n",
    "              metrics=['accuracy'])\n",
    "model3.summary()"
   ]
  },
  {
   "cell_type": "markdown",
   "metadata": {
    "colab_type": "text",
    "id": "dOsYbJbfO5sH"
   },
   "source": [
    "-----\n",
    "We'll try to run this for 40 epochs. If it's too slow, just hit the stop button on the top and retry with a lower number. If it's not taking too long, you can run it even longer, like 100 epochs."
   ]
  },
  {
   "cell_type": "code",
   "execution_count": null,
   "metadata": {
    "colab": {},
    "colab_type": "code",
    "id": "DC1ngGTUO5sI"
   },
   "outputs": [],
   "source": [
    "model3.fit(our_train_images, our_train_labels, epochs=40)"
   ]
  },
  {
   "cell_type": "markdown",
   "metadata": {
    "colab_type": "text",
    "id": "WeluiEmNO5sM"
   },
   "source": [
    "### <span style=\"color:red\">__Question 9:__</span> What is the accuracy of model3 on the training set?\n",
    "### <span style=\"color:red\">__Question 10:__</span> What is the accuracy of model3 on the validation set?\n",
    "Create a new code cell to answer this second questions just as you did for model2."
   ]
  },
  {
   "cell_type": "markdown",
   "metadata": {
    "colab_type": "text",
    "id": "4bd_5O-CO5sT"
   },
   "source": [
    "It's time to pick one of the three models. Which one would you pick out of the three if you had use one in a real application? \n",
    "\n",
    "### <span style=\"color:red\">__Question 11:__</span> Which model would you pick for prediction on an unseen data set? Why did you make that choice?"
   ]
  },
  {
   "cell_type": "markdown",
   "metadata": {
    "colab_type": "text",
    "id": "r597viz6O5sU"
   },
   "source": [
    "In the following cell block change the code so that it reflects your choice. \n",
    "\n",
    "**IMPORTANT!!!** The code will not run if you leave it as `modelx` so change it to either `model1`, `model2`, or `model3`, whichever you picked in your previous answer."
   ]
  },
  {
   "cell_type": "code",
   "execution_count": null,
   "metadata": {
    "colab": {},
    "colab_type": "code",
    "id": "Yn97WicZO5sW"
   },
   "outputs": [],
   "source": [
    "final_model=modelx"
   ]
  },
  {
   "cell_type": "markdown",
   "metadata": {
    "colab_type": "text",
    "id": "NxYpz2bhO5sc"
   },
   "source": [
    "## Check Performance\n",
    "Now that we have chosen a model, we can now check it's performance on the test data. It is important that we didn't touch the test data before and it didn't influence our model choice, so whatever performance we get on it, we can expect the same on new unseen data. The following code block evaluates the accuracy on the test data and stores the predictions for future use."
   ]
  },
  {
   "cell_type": "code",
   "execution_count": null,
   "metadata": {
    "colab": {},
    "colab_type": "code",
    "id": "aN41p6vVO5se"
   },
   "outputs": [],
   "source": [
    "test_loss, test_acc = final_model.evaluate(mnist_test_images, mnist_test_labels)\n",
    "predicted_classes = final_model.predict_classes(mnist_test_images)\n",
    "predictions = final_model.predict(mnist_test_images)\n",
    "print('Test accuracy:', test_acc)"
   ]
  },
  {
   "cell_type": "markdown",
   "metadata": {
    "colab_type": "text",
    "id": "L5quQQFZO5si"
   },
   "source": [
    "---\n",
    "Some more housekeeping: we separate the correct predictions and the incorrect predictions and display the numbers. These numbers should match the test accuracy above."
   ]
  },
  {
   "cell_type": "code",
   "execution_count": null,
   "metadata": {
    "colab": {},
    "colab_type": "code",
    "id": "d5t3e9F3O5sj"
   },
   "outputs": [],
   "source": [
    "correct = np.nonzero(predicted_classes==mnist_test_labels)[0]\n",
    "incorrect = np.nonzero(predicted_classes!=mnist_test_labels)[0]\n",
    "print(\"Correct predicted classes:\",correct.shape[0])\n",
    "print(\"Incorrect predicted classes:\",incorrect.shape[0])"
   ]
  },
  {
   "cell_type": "markdown",
   "metadata": {
    "colab_type": "text",
    "id": "0rerpeFaO5sn"
   },
   "source": [
    "---\n",
    "We now plot the first 25 correct predictions. We will use **green** color here."
   ]
  },
  {
   "cell_type": "code",
   "execution_count": null,
   "metadata": {
    "colab": {},
    "colab_type": "code",
    "id": "37stEkF5O5sn"
   },
   "outputs": [],
   "source": [
    "plt.figure(figsize=(15,15))\n",
    "for i in range(0,49):\n",
    "    plt.subplot(7,7,i+1)\n",
    "    plt.subplots_adjust(hspace=0.5)\n",
    "    plt.xticks([])\n",
    "    plt.yticks([])\n",
    "    plt.axis('off')\n",
    "    plt.grid(False)\n",
    "    plt.title('True:'+class_names[mnist_test_labels[correct[i]]]+'\\n Pred:'+class_names[predicted_classes[correct[i]]])\n",
    "    plt.imshow(mnist_test_images[correct[i]], cmap='Greens')"
   ]
  },
  {
   "cell_type": "markdown",
   "metadata": {
    "colab_type": "text",
    "id": "wHodmrmEO5sq"
   },
   "source": [
    "---\n",
    "And the first 25 incorrect predictions. We will use **red** color here."
   ]
  },
  {
   "cell_type": "code",
   "execution_count": null,
   "metadata": {
    "colab": {},
    "colab_type": "code",
    "id": "OMa2DCRDO5sr"
   },
   "outputs": [],
   "source": [
    "plt.figure(figsize=(15,15))\n",
    "for i in range(0,49):\n",
    "    plt.subplot(7,7,i+1)\n",
    "    plt.subplots_adjust(hspace=0.5)\n",
    "    plt.xticks([])\n",
    "    plt.yticks([])\n",
    "    plt.axis('off')\n",
    "    plt.grid(False)\n",
    "    plt.title('True:'+class_names[mnist_test_labels[incorrect[i]]]+'\\n Pred:'+class_names[predicted_classes[incorrect[i]]])\n",
    "    plt.imshow(mnist_test_images[incorrect[i]], cmap='Reds')"
   ]
  },
  {
   "cell_type": "markdown",
   "metadata": {
    "colab_type": "text",
    "id": "3MriDFm-O5sv"
   },
   "source": [
    "---\n",
    "Let's take a look at the first incorrect prediction (index = 0). The output shows the probability that the algorithm asigns to the image being in each of the 10 categories."
   ]
  },
  {
   "cell_type": "code",
   "execution_count": null,
   "metadata": {
    "colab": {},
    "colab_type": "code",
    "id": "4ThqMRQTO5sw"
   },
   "outputs": [],
   "source": [
    "index = 0\n",
    "print('True Class of incorrect image '+str(index)+' is '+class_names[mnist_test_labels[incorrect[index]]])\n",
    "print('Predictions:')\n",
    "for i in range(10):\n",
    "    print(\"{:06.2%}\".format(predictions[incorrect[index]][i])+': '+class_names[i]+'')"
   ]
  },
  {
   "cell_type": "markdown",
   "metadata": {
    "colab_type": "text",
    "id": "WPBJliYIO5sz"
   },
   "source": [
    "---\n",
    "A nice way to see what categories are confused with each other is to display the \"confusion\" matrix. The code is long mostly to make the image nice."
   ]
  },
  {
   "cell_type": "code",
   "execution_count": null,
   "metadata": {
    "colab": {},
    "colab_type": "code",
    "id": "6ubWHmn_O5s0"
   },
   "outputs": [],
   "source": [
    "def plot_confusion_matrix(cm,class_,title='Confusion matrix',cmap=plt.cm.Reds):\n",
    "    \"\"\"\n",
    "    This function plots a confusion matrix\n",
    "    \"\"\"\n",
    "    plt.imshow(cm, interpolation='nearest', cmap=cmap)\n",
    "    plt.title(title)\n",
    "    tick_marks = np.arange(len(class_))\n",
    "    plt.xticks(tick_marks, class_, rotation=90)\n",
    "    plt.yticks(tick_marks, class_)\n",
    "\n",
    "    fmt = 'd'\n",
    "    thresh = cm.max() / 2.\n",
    "    for i, j in itertools.product(range(cm.shape[0]), range(cm.shape[1])):\n",
    "        plt.text(j, i, format(cm[i, j], fmt),\n",
    "                 horizontalalignment=\"center\",\n",
    "                 color=\"white\" if cm[i, j] > thresh else \"black\")\n",
    "\n",
    "    plt.ylabel('True labels')\n",
    "    plt.xlabel('Predicted labels')\n",
    "    plt.show()\n",
    "    \n",
    "plot_confusion_matrix(confusion_matrix(mnist_test_labels, predicted_classes), class_names)    "
   ]
  },
  {
   "cell_type": "markdown",
   "metadata": {
    "colab_type": "text",
    "id": "oGvZ43v8O5s5"
   },
   "source": [
    "Time the read the confusion matrix above. The left side shows the correct label. The bottom shows the predicted label. For example, the first number on the first row shows the number of T-shirt/top images that are corrected labeled as T-shirt/tops. The second number of the first row shows the number of T-shirt/top images that are incorrectly labeled as Trouser.\n",
    "\n",
    "Which image category does the model perform the worst on? In other words which image category is recognized in the lowest proportion? (Hint: All rows add up to 1000, so you don't have to worry about calculating percentages)? Which category is it confused with the most?\n",
    "\n",
    "### <span style=\"color:red\">__Question 12:__</span> Which category does the model recognize the least?\n",
    "### <span style=\"color:red\">__Question 13:__</span> Which category is the above confused with the most?\n",
    "\n",
    "Now let's say you don't mind if these two are confused, it's not a big deal and you just merge the two categories. How much is the accuracy of our current model if you merge these two categories? (Hint: you can calculate this manually just by looking at the confusion matrix numbers, no need for more code).\n",
    "\n",
    "### <span style=\"color:red\">__Question 14:__</span> What is the accuracy of our current model on the test data if we merge the above two categories?\n",
    "\n",
    "\n",
    "One last thing we'll do is take a look at the images that are model does the worst on (really horribly). The code below just creates a new list with the performance numbers on the incorrectly classified images and displays these numbers for the 3 worst (classified by something else with close to 100% probability).\n"
   ]
  },
  {
   "cell_type": "code",
   "execution_count": null,
   "metadata": {
    "colab": {},
    "colab_type": "code",
    "id": "e6h2VWOpO5s5"
   },
   "outputs": [],
   "source": [
    "incorrect_list=[]\n",
    "for i in incorrect:\n",
    "    incorrect_list.append({'index':i,\n",
    "                        'pred_class':predicted_classes[i],\n",
    "                        'true_class':mnist_test_labels[i],\n",
    "                        'pred_prob_top':predictions[i][predicted_classes[i]],\n",
    "                        'pred_prob_true':predictions[i][mnist_test_labels[i]]\n",
    "                       })     \n",
    "incorrect_list.sort(key=lambda x: x['pred_prob_top'], reverse= True)  \n",
    "incorrect_list[:3]"
   ]
  },
  {
   "cell_type": "markdown",
   "metadata": {
    "colab_type": "text",
    "id": "tRnNPQX_O5s8"
   },
   "source": [
    "We now display the 25 worst images. Why don't you try to classify these with your own eyes? Or even better ask someone else if somebody is around. Take a screenshot of the image grid and put a label on each (one of the 10 of our labels of course). And please don't cheat, you could easily look up the correct labels, but what's the fun in that (how well you classify here is obviously not part of the grade).\n",
    "\n",
    "\n",
    "### <span style=\"color:red\">__Question 15:__</span> Run the next block of code. On a piece of paper, write down your prediction for each picture. Reminder: the 10 categories are T-shirt, Trouser, Pullover, Dress, Coat, Sandal, Shirt, Sneaker, Bag, and Ankle Boot."
   ]
  },
  {
   "cell_type": "code",
   "execution_count": null,
   "metadata": {
    "colab": {},
    "colab_type": "code",
    "id": "1JYpEKkCO5s-"
   },
   "outputs": [],
   "source": [
    "plt.figure(figsize=(18,18))\n",
    "for i in range(0,25):\n",
    "    plt.subplot(5,5,i+1)\n",
    "    plt.subplots_adjust(hspace=0.5,wspace=0.5)\n",
    "    plt.xticks([])\n",
    "    plt.yticks([])\n",
    "    plt.axis('off')\n",
    "    plt.grid(False)\n",
    "    plt.title('What is this?\\n \\n ')\n",
    "    plt.imshow(mnist_test_images[incorrect_list[i]['index']], cmap='Reds')"
   ]
  },
  {
   "cell_type": "markdown",
   "metadata": {
    "colab_type": "text",
    "id": "MhL6mm3KO5tH"
   },
   "source": [
    "---\n",
    "Now let's display the predicted and true labels. And for the fun part: how did you do?\n",
    "\n",
    "### <span style=\"color:red\">__Question 16:__</span> Run the next block of code. Compare to your guesses. Out of the 25, how many times did you get the True label?\n",
    "### <span style=\"color:red\">__Question 17:__</span> Out of the 25, how many times did you get the Predicted label (predicted by your chosen algorithm)?"
   ]
  },
  {
   "cell_type": "code",
   "execution_count": null,
   "metadata": {
    "colab": {},
    "colab_type": "code",
    "id": "pcrzyECjO5tJ"
   },
   "outputs": [],
   "source": [
    "plt.figure(figsize=(18,18))\n",
    "for i in range(0,25):\n",
    "    plt.subplot(5,5,i+1)\n",
    "    plt.subplots_adjust(hspace=0.5,wspace=0.5)\n",
    "    plt.xticks([])\n",
    "    plt.yticks([])\n",
    "    plt.axis('off')\n",
    "    plt.grid(False)\n",
    "    plt.title('True:'+class_names[incorrect_list[i]['true_class']]+\n",
    "              \"({:03.0%})\".format(incorrect_list[i]['pred_prob_true'])+'\\n Pred:'+\n",
    "              class_names[incorrect_list[i]['pred_class']]+\n",
    "              \"({:03.0%})\".format(incorrect_list[i]['pred_prob_top']))\n",
    "    plt.imshow(mnist_test_images[incorrect_list[i]['index']], cmap='Reds')"
   ]
  },
  {
   "cell_type": "markdown",
   "metadata": {
    "colab_type": "text",
    "id": "ZmCwfzCnO5tS"
   },
   "source": [
    "----\n",
    "That's it, we're done! One more **IMPORTANT** **IMPORTANT** step. Click \"File\" and download this file as an .ipynb notebook. \n",
    "\n",
    "Name the files as lastname_firstname.ipynb\n",
    "\n",
    "### <span style=\"color:red\">__One Last Thing:__</span> Upload the lastname_firstname.ipynb file to Blackboard"
   ]
  }
 ],
 "metadata": {
  "colab": {
   "collapsed_sections": [
    "B9lBTR_lO5rc",
    "ZmCwfzCnO5tS"
   ],
   "name": "CKMBA_Deep_Learning_Homework_2019_updated.ipynb",
   "provenance": []
  },
  "kernelspec": {
   "display_name": "Python 3",
   "language": "python",
   "name": "python3"
  },
  "language_info": {
   "codemirror_mode": {
    "name": "ipython",
    "version": 3
   },
   "file_extension": ".py",
   "mimetype": "text/x-python",
   "name": "python",
   "nbconvert_exporter": "python",
   "pygments_lexer": "ipython3",
   "version": "3.7.3"
  }
 },
 "nbformat": 4,
 "nbformat_minor": 1
}
