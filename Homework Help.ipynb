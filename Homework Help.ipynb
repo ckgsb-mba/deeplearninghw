{
 "cells": [
  {
   "cell_type": "markdown",
   "metadata": {},
   "source": [
    "### <span style=\"color:red\">__第一题:__</span> test集里面有多少张图片?\n",
    "mnist_test_images.shape\n",
    "\n",
    "### <span style=\"color:red\">__第二题:__</span> train集里面第二张图片的标注(label)是什么?\n",
    "class_names[mnist_train_labels[1]]"
   ]
  },
  {
   "cell_type": "markdown",
   "metadata": {},
   "source": [
    "### <span style=\"color:red\">__第三题:__</span>展示前49张**test**集里面的图片. \n",
    "复制问题前面的一段代码, 把最后两行中的“train”改成“test”. 两个都要改："
   ]
  },
  {
   "cell_type": "code",
   "execution_count": null,
   "metadata": {},
   "outputs": [],
   "source": [
    "plt.figure(figsize=(10,10))\n",
    "for i in range(0,48):\n",
    "    plt.subplot(7,7,i+1)\n",
    "    plt.subplots_adjust(hspace=0.5)\n",
    "    plt.xticks([])\n",
    "    plt.yticks([])\n",
    "    plt.axis('off')\n",
    "    plt.grid(False)\n",
    "    plt.title(class_names[mnist_test_labels[i]],fontproperties=zhfont)\n",
    "    plt.imshow(mnist_test_images[i], cmap='Blues')"
   ]
  },
  {
   "cell_type": "markdown",
   "metadata": {},
   "source": [
    "### <span style=\"color:red\">__第五题:__</span> 我们将用多少张图片来训练模型 (新的train集里面有多少张图片)?\n",
    "our_train_images.shape\n",
    "\n",
    "### <span style=\"color:red\">__第九题:__</span> model2在validation集上的准确率是多少?\n",
    "第六题上面的一段代码计算了model1 的validation准确率. 只需复制,然后把所有(4个)“1”都改成“2”即可:"
   ]
  },
  {
   "cell_type": "code",
   "execution_count": null,
   "metadata": {},
   "outputs": [],
   "source": [
    "val_loss2, val_acc2 = model2.evaluate(our_val_images, our_val_labels)\n",
    "print('Validation 准确率:', val_acc2)"
   ]
  },
  {
   "cell_type": "markdown",
   "metadata": {},
   "source": [
    "注意上面4个“2”, 意指model2."
   ]
  },
  {
   "cell_type": "markdown",
   "metadata": {},
   "source": [
    "### <span style=\"color:red\">__第十二题:__</span> model3在validation集上的准确率是多少?\n",
    "第六题上面的一段代码计算了model1 的validation准确率. 只需复制,然后把所有(4个)“1”都改成“3”即可:"
   ]
  },
  {
   "cell_type": "code",
   "execution_count": null,
   "metadata": {},
   "outputs": [],
   "source": [
    "val_loss3, val_acc3 = model3.evaluate(our_val_images, our_val_labels)\n",
    "print('Validation 准确率:', val_acc3)"
   ]
  },
  {
   "cell_type": "markdown",
   "metadata": {},
   "source": [
    "注意上面4个“3”, 意指model3."
   ]
  }
 ],
 "metadata": {
  "kernelspec": {
   "display_name": "Python 3",
   "language": "python",
   "name": "python3"
  },
  "language_info": {
   "codemirror_mode": {
    "name": "ipython",
    "version": 3
   },
   "file_extension": ".py",
   "mimetype": "text/x-python",
   "name": "python",
   "nbconvert_exporter": "python",
   "pygments_lexer": "ipython3",
   "version": "3.7.3"
  }
 },
 "nbformat": 4,
 "nbformat_minor": 4
}
